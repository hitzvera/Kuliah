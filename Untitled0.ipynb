{
  "nbformat": 4,
  "nbformat_minor": 0,
  "metadata": {
    "colab": {
      "name": "Untitled0.ipynb",
      "provenance": [],
      "authorship_tag": "ABX9TyNWHrf/PSETjv79KiIIhHlt",
      "include_colab_link": true
    },
    "kernelspec": {
      "name": "python3",
      "display_name": "Python 3"
    },
    "language_info": {
      "name": "python"
    }
  },
  "cells": [
    {
      "cell_type": "markdown",
      "metadata": {
        "id": "view-in-github",
        "colab_type": "text"
      },
      "source": [
        "<a href=\"https://colab.research.google.com/github/hitzvera/Kuliah/blob/main/Untitled0.ipynb\" target=\"_parent\"><img src=\"https://colab.research.google.com/assets/colab-badge.svg\" alt=\"Open In Colab\"/></a>"
      ]
    },
    {
      "cell_type": "code",
      "metadata": {
        "colab": {
          "resources": {
            "http://localhost:8080/nbextensions/google.colab/files.js": {
              "data": "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",
              "ok": true,
              "headers": [
                [
                  "content-type",
                  "application/javascript"
                ]
              ],
              "status": 200,
              "status_text": ""
            }
          },
          "base_uri": "https://localhost:8080/",
          "height": 73
        },
        "id": "dqA37UAR4wSc",
        "outputId": "87597b3b-422a-4fb0-9824-3583f62af02f"
      },
      "source": [
        "import pandas as pd\n",
        "from google.colab import files\n",
        "theFile = files.upload()"
      ],
      "execution_count": 3,
      "outputs": [
        {
          "output_type": "display_data",
          "data": {
            "text/html": [
              "\n",
              "     <input type=\"file\" id=\"files-023d96dc-43c4-4ad6-8086-daf58bac5880\" name=\"files[]\" multiple disabled\n",
              "        style=\"border:none\" />\n",
              "     <output id=\"result-023d96dc-43c4-4ad6-8086-daf58bac5880\">\n",
              "      Upload widget is only available when the cell has been executed in the\n",
              "      current browser session. Please rerun this cell to enable.\n",
              "      </output>\n",
              "      <script src=\"/nbextensions/google.colab/files.js\"></script> "
            ],
            "text/plain": [
              "<IPython.core.display.HTML object>"
            ]
          },
          "metadata": {}
        },
        {
          "output_type": "stream",
          "name": "stdout",
          "text": [
            "Saving hw_200.csv to hw_200 (1).csv\n"
          ]
        }
      ]
    },
    {
      "cell_type": "code",
      "metadata": {
        "colab": {
          "base_uri": "https://localhost:8080/"
        },
        "id": "exmyBWAf6KIi",
        "outputId": "a3a02c38-edb2-4aa4-f219-5407e789b833"
      },
      "source": [
        "theFile"
      ],
      "execution_count": 4,
      "outputs": [
        {
          "output_type": "execute_result",
          "data": {
            "text/plain": [
              "{'hw_200.csv': b'\"Index\", Height(Inches)\", \"Weight(Pounds)\"\\n1, 65.78, 112.99\\n2, 71.52, 136.49\\n3, 69.40, 153.03\\n4, 68.22, 142.34\\n5, 67.79, 144.30\\n6, 68.70, 123.30\\n7, 69.80, 141.49\\n8, 70.01, 136.46\\n9, 67.90, 112.37\\n10, 66.78, 120.67\\n11, 66.49, 127.45\\n12, 67.62, 114.14\\n13, 68.30, 125.61\\n14, 67.12, 122.46\\n15, 68.28, 116.09\\n16, 71.09, 140.00\\n17, 66.46, 129.50\\n18, 68.65, 142.97\\n19, 71.23, 137.90\\n20, 67.13, 124.04\\n21, 67.83, 141.28\\n22, 68.88, 143.54\\n23, 63.48, 97.90\\n24, 68.42, 129.50\\n25, 67.63, 141.85\\n26, 67.21, 129.72\\n27, 70.84, 142.42\\n28, 67.49, 131.55\\n29, 66.53, 108.33\\n30, 65.44, 113.89\\n31, 69.52, 103.30\\n32, 65.81, 120.75\\n33, 67.82, 125.79\\n34, 70.60, 136.22\\n35, 71.80, 140.10\\n36, 69.21, 128.75\\n37, 66.80, 141.80\\n38, 67.66, 121.23\\n39, 67.81, 131.35\\n40, 64.05, 106.71\\n41, 68.57, 124.36\\n42, 65.18, 124.86\\n43, 69.66, 139.67\\n44, 67.97, 137.37\\n45, 65.98, 106.45\\n46, 68.67, 128.76\\n47, 66.88, 145.68\\n48, 67.70, 116.82\\n49, 69.82, 143.62\\n50, 69.09, 134.93\\n51, 69.91, 147.02\\n52, 67.33, 126.33\\n53, 70.27, 125.48\\n54, 69.10, 115.71\\n55, 65.38, 123.49\\n56, 70.18, 147.89\\n57, 70.41, 155.90\\n58, 66.54, 128.07\\n59, 66.36, 119.37\\n60, 67.54, 133.81\\n61, 66.50, 128.73\\n62, 69.00, 137.55\\n63, 68.30, 129.76\\n64, 67.01, 128.82\\n65, 70.81, 135.32\\n66, 68.22, 109.61\\n67, 69.06, 142.47\\n68, 67.73, 132.75\\n69, 67.22, 103.53\\n70, 67.37, 124.73\\n71, 65.27, 129.31\\n72, 70.84, 134.02\\n73, 69.92, 140.40\\n74, 64.29, 102.84\\n75, 68.25, 128.52\\n76, 66.36, 120.30\\n77, 68.36, 138.60\\n78, 65.48, 132.96\\n79, 69.72, 115.62\\n80, 67.73, 122.52\\n81, 68.64, 134.63\\n82, 66.78, 121.90\\n83, 70.05, 155.38\\n84, 66.28, 128.94\\n85, 69.20, 129.10\\n86, 69.13, 139.47\\n87, 67.36, 140.89\\n88, 70.09, 131.59\\n89, 70.18, 121.12\\n90, 68.23, 131.51\\n91, 68.13, 136.55\\n92, 70.24, 141.49\\n93, 71.49, 140.61\\n94, 69.20, 112.14\\n95, 70.06, 133.46\\n96, 70.56, 131.80\\n97, 66.29, 120.03\\n98, 63.43, 123.10\\n99, 66.77, 128.14\\n100, 68.89, 115.48\\n101, 64.87, 102.09\\n102, 67.09, 130.35\\n103, 68.35, 134.18\\n104, 65.61, 98.64\\n105, 67.76, 114.56\\n106, 68.02, 123.49\\n107, 67.66, 123.05\\n108, 66.31, 126.48\\n109, 69.44, 128.42\\n110, 63.84, 127.19\\n111, 67.72, 122.06\\n112, 70.05, 127.61\\n113, 70.19, 131.64\\n114, 65.95, 111.90\\n115, 70.01, 122.04\\n116, 68.61, 128.55\\n117, 68.81, 132.68\\n118, 69.76, 136.06\\n119, 65.46, 115.94\\n120, 68.83, 136.90\\n121, 65.80, 119.88\\n122, 67.21, 109.01\\n123, 69.42, 128.27\\n124, 68.94, 135.29\\n125, 67.94, 106.86\\n126, 65.63, 123.29\\n127, 66.50, 109.51\\n128, 67.93, 119.31\\n129, 68.89, 140.24\\n130, 70.24, 133.98\\n131, 68.27, 132.58\\n132, 71.23, 130.70\\n133, 69.10, 115.56\\n134, 64.40, 123.79\\n135, 71.10, 128.14\\n136, 68.22, 135.96\\n137, 65.92, 116.63\\n138, 67.44, 126.82\\n139, 73.90, 151.39\\n140, 69.98, 130.40\\n141, 69.52, 136.21\\n142, 65.18, 113.40\\n143, 68.01, 125.33\\n144, 68.34, 127.58\\n145, 65.18, 107.16\\n146, 68.26, 116.46\\n147, 68.57, 133.84\\n148, 64.50, 112.89\\n149, 68.71, 130.76\\n150, 68.89, 137.76\\n151, 69.54, 125.40\\n152, 67.40, 138.47\\n153, 66.48, 120.82\\n154, 66.01, 140.15\\n155, 72.44, 136.74\\n156, 64.13, 106.11\\n157, 70.98, 158.96\\n158, 67.50, 108.79\\n159, 72.02, 138.78\\n160, 65.31, 115.91\\n161, 67.08, 146.29\\n162, 64.39, 109.88\\n163, 69.37, 139.05\\n164, 68.38, 119.90\\n165, 65.31, 128.31\\n166, 67.14, 127.24\\n167, 68.39, 115.23\\n168, 66.29, 124.80\\n169, 67.19, 126.95\\n170, 65.99, 111.27\\n171, 69.43, 122.61\\n172, 67.97, 124.21\\n173, 67.76, 124.65\\n174, 65.28, 119.52\\n175, 73.83, 139.30\\n176, 66.81, 104.83\\n177, 66.89, 123.04\\n178, 65.74, 118.89\\n179, 65.98, 121.49\\n180, 66.58, 119.25\\n181, 67.11, 135.02\\n182, 65.87, 116.23\\n183, 66.78, 109.17\\n184, 68.74, 124.22\\n185, 66.23, 141.16\\n186, 65.96, 129.15\\n187, 68.58, 127.87\\n188, 66.59, 120.92\\n189, 66.97, 127.65\\n190, 68.08, 101.47\\n191, 70.19, 144.99\\n192, 65.52, 110.95\\n193, 67.46, 132.86\\n194, 67.41, 146.34\\n195, 69.66, 145.59\\n196, 65.80, 120.84\\n197, 66.11, 115.78\\n198, 68.24, 128.30\\n199, 68.02, 127.47\\n200, 71.39, 127.88 \\n'}"
            ]
          },
          "metadata": {},
          "execution_count": 4
        }
      ]
    },
    {
      "cell_type": "code",
      "metadata": {
        "colab": {
          "base_uri": "https://localhost:8080/"
        },
        "id": "_szxtIY96Wrc",
        "outputId": "dac53016-a6a1-4079-a745-cbf3f1364621"
      },
      "source": [
        "import io\n",
        "df = pd.read_csv(io.StringIO(theFile['hw_200.csv'].decode('utf-8')))\n",
        "print(df)"
      ],
      "execution_count": 5,
      "outputs": [
        {
          "output_type": "stream",
          "name": "stdout",
          "text": [
            "     Index   Height(Inches)\"   \"Weight(Pounds)\"\n",
            "0        1             65.78             112.99\n",
            "1        2             71.52             136.49\n",
            "2        3             69.40             153.03\n",
            "3        4             68.22             142.34\n",
            "4        5             67.79             144.30\n",
            "..     ...               ...                ...\n",
            "195    196             65.80             120.84\n",
            "196    197             66.11             115.78\n",
            "197    198             68.24             128.30\n",
            "198    199             68.02             127.47\n",
            "199    200             71.39             127.88\n",
            "\n",
            "[200 rows x 3 columns]\n"
          ]
        }
      ]
    }
  ]
}